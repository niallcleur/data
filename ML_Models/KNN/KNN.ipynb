{
 "cells": [
  {
   "cell_type": "code",
   "execution_count": 1,
   "id": "e3290864-223d-4bce-86ea-65d55aa7f5aa",
   "metadata": {},
   "outputs": [],
   "source": [
    "# Task: Train a KNN model to predict car availability based on selected features.\n",
    "\n",
    "# Steps:\n",
    "# - Use 'Car_Name', 'Number_of_Doors', 'No_of_Cylinder', 'Car_Mileage', 'Car_Age' as features\n",
    "# - Use 'Available' as the target\n",
    "# - Handle missing values\n",
    "# - Encode categorical data\n",
    "# - Scale features\n",
    "# - Train/test split, train model, and evaluate with confusion matrix and accuracy score\n",
    "\n",
    "# Import required libraries\n",
    "import pandas as pd\n",
    "import numpy as np\n",
    "from sklearn.impute import SimpleImputer\n",
    "from sklearn.model_selection import train_test_split\n",
    "from sklearn.preprocessing import LabelEncoder, StandardScaler\n",
    "from sklearn.neighbors import KNeighborsClassifier\n",
    "from sklearn.metrics import confusion_matrix, accuracy_score"
   ]
  },
  {
   "cell_type": "code",
   "execution_count": 2,
   "id": "da413b10-93e8-4a59-a280-94aefe48b7e8",
   "metadata": {},
   "outputs": [],
   "source": [
    "# Load dataset\n",
    "\n",
    "df = pd.read_csv('Car Data.csv')"
   ]
  },
  {
   "cell_type": "code",
   "execution_count": 5,
   "id": "de4875d0-0840-4043-85f3-d97bb5997f79",
   "metadata": {},
   "outputs": [],
   "source": [
    "# Select relevant columns\n",
    "\n",
    "df = df[['Car_Name', 'Number_of_Doors', 'No_of_Cylinder', 'Car_Mileage', 'Car_Age', 'Available']]"
   ]
  },
  {
   "cell_type": "code",
   "execution_count": 7,
   "id": "e5224b91-87a1-40c9-866a-30f5ca2fe10d",
   "metadata": {},
   "outputs": [],
   "source": [
    "# Clean column names and strip whitespaces\n",
    "\n",
    "df.columns = df.columns.str.strip()\n",
    "df['Available'] = df['Available'].str.strip()"
   ]
  },
  {
   "cell_type": "code",
   "execution_count": 9,
   "id": "a6db262f-dfb6-435f-925e-180413bd7dd7",
   "metadata": {},
   "outputs": [],
   "source": [
    "# Fill missing numeric values with mean\n",
    "\n",
    "imputer = SimpleImputer(strategy='mean')\n",
    "df[['Number_of_Doors', 'No_of_Cylinder', 'Car_Mileage', 'Car_Age']] = imputer.fit_transform(\n",
    "    df[['Number_of_Doors', 'No_of_Cylinder', 'Car_Mileage', 'Car_Age']])"
   ]
  },
  {
   "cell_type": "code",
   "execution_count": 11,
   "id": "1df4c0ea-b656-43c2-9d51-ace1c0a05cc6",
   "metadata": {},
   "outputs": [],
   "source": [
    "#  Encode categorical variables ('Car_Name' and 'Available') to numerical values\n",
    "\n",
    "label_encoders = {}\n",
    "for col in ['Car_Name', 'Available']:\n",
    "    le = LabelEncoder()\n",
    "    df[col] = le.fit_transform(df[col])\n",
    "    label_encoders[col] = le"
   ]
  },
  {
   "cell_type": "code",
   "execution_count": 13,
   "id": "a9a541f7-192c-4d4c-8299-e02a9b7e6bff",
   "metadata": {},
   "outputs": [],
   "source": [
    "# Define input features (X) and target label (y)\n",
    "\n",
    "X = df[['Car_Name', 'Number_of_Doors', 'No_of_Cylinder', 'Car_Mileage', 'Car_Age']]\n",
    "y = df['Available']"
   ]
  },
  {
   "cell_type": "code",
   "execution_count": 15,
   "id": "bd7ce9a4-4e7e-45bc-b7aa-831b74b1c071",
   "metadata": {},
   "outputs": [],
   "source": [
    "# Scale the features for better KNN performance\n",
    "\n",
    "scaler = StandardScaler()\n",
    "X_scaled = scaler.fit_transform(X)"
   ]
  },
  {
   "cell_type": "code",
   "execution_count": 17,
   "id": "15f99fff-ba34-4fbd-a9ad-2b9fb386ab1d",
   "metadata": {},
   "outputs": [],
   "source": [
    "# Split data into training and test sets (80% train, 20% test)\n",
    "\n",
    "X_train, X_test, y_train, y_test = train_test_split(X_scaled, y, test_size=0.2, random_state=42)"
   ]
  },
  {
   "cell_type": "code",
   "execution_count": 21,
   "id": "f0feacfe-c272-4c46-9ee8-a9fb7f95d540",
   "metadata": {},
   "outputs": [
    {
     "data": {
      "text/html": [
       "<style>#sk-container-id-2 {color: black;background-color: white;}#sk-container-id-2 pre{padding: 0;}#sk-container-id-2 div.sk-toggleable {background-color: white;}#sk-container-id-2 label.sk-toggleable__label {cursor: pointer;display: block;width: 100%;margin-bottom: 0;padding: 0.3em;box-sizing: border-box;text-align: center;}#sk-container-id-2 label.sk-toggleable__label-arrow:before {content: \"▸\";float: left;margin-right: 0.25em;color: #696969;}#sk-container-id-2 label.sk-toggleable__label-arrow:hover:before {color: black;}#sk-container-id-2 div.sk-estimator:hover label.sk-toggleable__label-arrow:before {color: black;}#sk-container-id-2 div.sk-toggleable__content {max-height: 0;max-width: 0;overflow: hidden;text-align: left;background-color: #f0f8ff;}#sk-container-id-2 div.sk-toggleable__content pre {margin: 0.2em;color: black;border-radius: 0.25em;background-color: #f0f8ff;}#sk-container-id-2 input.sk-toggleable__control:checked~div.sk-toggleable__content {max-height: 200px;max-width: 100%;overflow: auto;}#sk-container-id-2 input.sk-toggleable__control:checked~label.sk-toggleable__label-arrow:before {content: \"▾\";}#sk-container-id-2 div.sk-estimator input.sk-toggleable__control:checked~label.sk-toggleable__label {background-color: #d4ebff;}#sk-container-id-2 div.sk-label input.sk-toggleable__control:checked~label.sk-toggleable__label {background-color: #d4ebff;}#sk-container-id-2 input.sk-hidden--visually {border: 0;clip: rect(1px 1px 1px 1px);clip: rect(1px, 1px, 1px, 1px);height: 1px;margin: -1px;overflow: hidden;padding: 0;position: absolute;width: 1px;}#sk-container-id-2 div.sk-estimator {font-family: monospace;background-color: #f0f8ff;border: 1px dotted black;border-radius: 0.25em;box-sizing: border-box;margin-bottom: 0.5em;}#sk-container-id-2 div.sk-estimator:hover {background-color: #d4ebff;}#sk-container-id-2 div.sk-parallel-item::after {content: \"\";width: 100%;border-bottom: 1px solid gray;flex-grow: 1;}#sk-container-id-2 div.sk-label:hover label.sk-toggleable__label {background-color: #d4ebff;}#sk-container-id-2 div.sk-serial::before {content: \"\";position: absolute;border-left: 1px solid gray;box-sizing: border-box;top: 0;bottom: 0;left: 50%;z-index: 0;}#sk-container-id-2 div.sk-serial {display: flex;flex-direction: column;align-items: center;background-color: white;padding-right: 0.2em;padding-left: 0.2em;position: relative;}#sk-container-id-2 div.sk-item {position: relative;z-index: 1;}#sk-container-id-2 div.sk-parallel {display: flex;align-items: stretch;justify-content: center;background-color: white;position: relative;}#sk-container-id-2 div.sk-item::before, #sk-container-id-2 div.sk-parallel-item::before {content: \"\";position: absolute;border-left: 1px solid gray;box-sizing: border-box;top: 0;bottom: 0;left: 50%;z-index: -1;}#sk-container-id-2 div.sk-parallel-item {display: flex;flex-direction: column;z-index: 1;position: relative;background-color: white;}#sk-container-id-2 div.sk-parallel-item:first-child::after {align-self: flex-end;width: 50%;}#sk-container-id-2 div.sk-parallel-item:last-child::after {align-self: flex-start;width: 50%;}#sk-container-id-2 div.sk-parallel-item:only-child::after {width: 0;}#sk-container-id-2 div.sk-dashed-wrapped {border: 1px dashed gray;margin: 0 0.4em 0.5em 0.4em;box-sizing: border-box;padding-bottom: 0.4em;background-color: white;}#sk-container-id-2 div.sk-label label {font-family: monospace;font-weight: bold;display: inline-block;line-height: 1.2em;}#sk-container-id-2 div.sk-label-container {text-align: center;}#sk-container-id-2 div.sk-container {/* jupyter's `normalize.less` sets `[hidden] { display: none; }` but bootstrap.min.css set `[hidden] { display: none !important; }` so we also need the `!important` here to be able to override the default hidden behavior on the sphinx rendered scikit-learn.org. See: https://github.com/scikit-learn/scikit-learn/issues/21755 */display: inline-block !important;position: relative;}#sk-container-id-2 div.sk-text-repr-fallback {display: none;}</style><div id=\"sk-container-id-2\" class=\"sk-top-container\"><div class=\"sk-text-repr-fallback\"><pre>KNeighborsClassifier()</pre><b>In a Jupyter environment, please rerun this cell to show the HTML representation or trust the notebook. <br />On GitHub, the HTML representation is unable to render, please try loading this page with nbviewer.org.</b></div><div class=\"sk-container\" hidden><div class=\"sk-item\"><div class=\"sk-estimator sk-toggleable\"><input class=\"sk-toggleable__control sk-hidden--visually\" id=\"sk-estimator-id-2\" type=\"checkbox\" checked><label for=\"sk-estimator-id-2\" class=\"sk-toggleable__label sk-toggleable__label-arrow\">KNeighborsClassifier</label><div class=\"sk-toggleable__content\"><pre>KNeighborsClassifier()</pre></div></div></div></div></div>"
      ],
      "text/plain": [
       "KNeighborsClassifier()"
      ]
     },
     "execution_count": 21,
     "metadata": {},
     "output_type": "execute_result"
    }
   ],
   "source": [
    "# Train KNN model\n",
    "\n",
    "knn = KNeighborsClassifier(n_neighbors=5)\n",
    "knn.fit(X_train, y_train)"
   ]
  },
  {
   "cell_type": "code",
   "execution_count": 23,
   "id": "198b4cbc-f64b-4b53-8043-0833bdad9e3e",
   "metadata": {},
   "outputs": [],
   "source": [
    "# Predict and evaluate\n",
    "\n",
    "y_pred = knn.predict(X_test)\n",
    "conf_matrix = confusion_matrix(y_test, y_pred)\n",
    "accuracy = accuracy_score(y_test, y_pred)"
   ]
  },
  {
   "cell_type": "code",
   "execution_count": 25,
   "id": "c01b3f64-8be9-417a-9246-08c270b6eb4c",
   "metadata": {},
   "outputs": [
    {
     "name": "stdout",
     "output_type": "stream",
     "text": [
      "Confusion Matrix:\n",
      " [[ 6 11]\n",
      " [ 9 15]]\n",
      "Accuracy Score: 0.5121951219512195\n"
     ]
    }
   ],
   "source": [
    "print(\"Confusion Matrix:\\n\", conf_matrix)\n",
    "print(\"Accuracy Score:\", accuracy)"
   ]
  },
  {
   "cell_type": "code",
   "execution_count": 27,
   "id": "ca66b9c4-76b2-4617-ac69-549ae04e2b24",
   "metadata": {},
   "outputs": [],
   "source": [
    "# Predict availability for the test case (Mazda, diesel, std, 4 doors, sedan, fwd, 4 cylinders, 134000 mileage, 22 age)\n",
    "# Manually encode the new input based on existing encoders and scale\n",
    "\n",
    "input_data = pd.DataFrame([{\n",
    "    'Car_Name': label_encoders['Car_Name'].transform(['mazda'])[0],\n",
    "    'Number_of_Doors': 4,\n",
    "    'No_of_Cylinder': 4,\n",
    "    'Car_Mileage': 134000,\n",
    "    'Car_Age': 22\n",
    "}])\n",
    "input_scaled = scaler.transform(input_data)\n",
    "prediction = knn.predict(input_scaled)"
   ]
  },
  {
   "cell_type": "code",
   "execution_count": 29,
   "id": "97381039-50a6-42f9-8951-62b15c83f2ad",
   "metadata": {},
   "outputs": [
    {
     "name": "stdout",
     "output_type": "stream",
     "text": [
      "Predicted Availability for test car: no\n"
     ]
    }
   ],
   "source": [
    "# Print the prediction\n",
    "\n",
    "availability = label_encoders['Available'].inverse_transform(prediction)[0]\n",
    "print(\"Predicted Availability for test car:\", availability)"
   ]
  },
  {
   "cell_type": "code",
   "execution_count": 31,
   "id": "cd27c7a0-f24c-4c10-abb9-92043e3a5fbe",
   "metadata": {},
   "outputs": [],
   "source": [
    "#  Summary: KNN Model for Predicting Car Availability\n",
    "# \n",
    "#  - This model uses K-Nearest Neighbors to predict car availability.\n",
    "#  - It uses 5 input features: Car Name, Number of Doors, Cylinders, Mileage, and Age.\n",
    "#  - All missing values are filled using the mean.\n",
    "#  - Categorical data is encoded numerically and scaled for KNN.\n",
    "#  - For a test case (Mazda, 4 doors, 4 cylinders, 134000 km, 22 years old), \n",
    "#       the model predicts whether the car is available or not.\n",
    "#  - Evaluation includes a confusion matrix and accuracy score.\n",
    "\n",
    "#  Why This Matters in Finance:\n",
    "#  - Helps predict inventory or availability in car dealerships.\n",
    "#  - Useful in managing fleet, pricing insurance, or loan risk.\n",
    "#  - Can be extended to other categorical predictions in financial analytics\n",
    "#"
   ]
  }
 ],
 "metadata": {
  "kernelspec": {
   "display_name": "Python [conda env:base] *",
   "language": "python",
   "name": "conda-base-py"
  },
  "language_info": {
   "codemirror_mode": {
    "name": "ipython",
    "version": 3
   },
   "file_extension": ".py",
   "mimetype": "text/x-python",
   "name": "python",
   "nbconvert_exporter": "python",
   "pygments_lexer": "ipython3",
   "version": "3.10.9"
  }
 },
 "nbformat": 4,
 "nbformat_minor": 5
}
