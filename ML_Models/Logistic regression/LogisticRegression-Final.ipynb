{
 "cells": [
  {
   "cell_type": "code",
   "execution_count": 3,
   "id": "9040e1e3-cfb2-4c25-8e0d-30f368115644",
   "metadata": {},
   "outputs": [],
   "source": [
    "# Step 1: Import necessary libraries\n",
    "\n",
    "import numpy as np\n",
    "import pandas as pd\n",
    "import matplotlib.pyplot as plt\n",
    "\n",
    "# For preprocessing and model building\n",
    "from sklearn.impute import SimpleImputer\n",
    "from sklearn.compose import ColumnTransformer\n",
    "from sklearn.preprocessing import OneHotEncoder, LabelEncoder\n",
    "from sklearn.model_selection import train_test_split\n",
    "from sklearn.linear_model import LogisticRegression\n",
    "from sklearn.metrics import confusion_matrix, accuracy_score"
   ]
  },
  {
   "cell_type": "code",
   "execution_count": 5,
   "id": "60310eab-a752-47fa-91ea-8879f8bec36a",
   "metadata": {},
   "outputs": [],
   "source": [
    "# Step 2: Load the dataset\n",
    "\n",
    "dataset = pd.read_csv('Car Data.csv')"
   ]
  },
  {
   "cell_type": "code",
   "execution_count": 7,
   "id": "96df21a6-2174-430d-93aa-25cacd001132",
   "metadata": {},
   "outputs": [],
   "source": [
    "# Step 3: Select relevant features (X = independent variables) and target (Y = dependent variable)\n",
    "\n",
    "X = dataset[['Car_Name', 'Number_of_Doors', 'No_of_Cylinder', 'Car_Mileage', 'Car_Age']].values\n",
    "Y = dataset[['Available']].values.ravel()  # Flatten Y to 1D array"
   ]
  },
  {
   "cell_type": "code",
   "execution_count": 9,
   "id": "82e1805b-f608-4db2-a42c-7b04a15e34ac",
   "metadata": {},
   "outputs": [],
   "source": [
    "# Step 4: Handle missing numeric data (Car_Mileage and Car_Age)\n",
    "\n",
    "imputer = SimpleImputer(missing_values=np.nan, strategy='mean')\n",
    "imputer.fit(X[:, 3:5])  # Only apply to numeric columns\n",
    "X[:, 3:5] = imputer.transform(X[:, 3:5])"
   ]
  },
  {
   "cell_type": "code",
   "execution_count": 11,
   "id": "e47ed87b-660e-4f02-8320-e5d204a18742",
   "metadata": {},
   "outputs": [
    {
     "name": "stdout",
     "output_type": "stream",
     "text": [
      "[['alfa-romero' 2 4 130000.0 9.0]]\n",
      "['yes']\n"
     ]
    }
   ],
   "source": [
    "# Sample Data \n",
    "\n",
    "print (X[0:1])\n",
    "print (Y[0:1]) # 'Yes' means car is avaiable."
   ]
  },
  {
   "cell_type": "code",
   "execution_count": 13,
   "id": "68354010-265e-4d8e-a0f0-73b539470832",
   "metadata": {},
   "outputs": [
    {
     "name": "stderr",
     "output_type": "stream",
     "text": [
      "/Users/Niall/anaconda3/lib/python3.10/site-packages/sklearn/preprocessing/_encoders.py:828: FutureWarning: `sparse` was renamed to `sparse_output` in version 1.2 and will be removed in 1.4. `sparse_output` is ignored unless you leave `sparse` to its default value.\n",
      "  warnings.warn(\n"
     ]
    }
   ],
   "source": [
    "# Step 5: Encode the 'Car_Name' column (categorical feature)\n",
    "\n",
    "ct = ColumnTransformer(transformers=[\n",
    "    ('encoder', OneHotEncoder(sparse=False, handle_unknown='ignore'), [0])  # Encode column 0\n",
    "], remainder='passthrough')  # Keep other columns unchanged\n",
    "X = ct.fit_transform(X)"
   ]
  },
  {
   "cell_type": "code",
   "execution_count": 15,
   "id": "c078812f-a544-4acf-a903-2330578254f7",
   "metadata": {},
   "outputs": [
    {
     "name": "stdout",
     "output_type": "stream",
     "text": [
      "[[1.0 0.0 0.0 0.0 0.0 0.0 0.0 0.0 0.0 0.0 0.0 0.0 0.0 0.0 0.0 0.0 0.0 0.0\n",
      "  0.0 0.0 0.0 0.0 2 4 130000.0 9.0]]\n"
     ]
    }
   ],
   "source": [
    "# Sample, coloumn 'Car_name' is encoded now \n",
    "print (X[0:1])"
   ]
  },
  {
   "cell_type": "code",
   "execution_count": 17,
   "id": "bdddba4b-9451-4977-9a93-934c0f5d1714",
   "metadata": {},
   "outputs": [],
   "source": [
    "# Step 6: Encode the target variable 'Available' (Yes/No → 1/0)\n",
    "\n",
    "le = LabelEncoder()\n",
    "Y = le.fit_transform(Y)  #Converts 'yes' to 1 and 'no' to 0"
   ]
  },
  {
   "cell_type": "code",
   "execution_count": 19,
   "id": "6832a928-6a44-44d9-ab4f-73017693a2ed",
   "metadata": {},
   "outputs": [
    {
     "name": "stdout",
     "output_type": "stream",
     "text": [
      "[1 1 1 1 1 1 1 1 1 1 1 1 1 1 0 1 0 0 1 0 1 1 1 1 1]\n"
     ]
    }
   ],
   "source": [
    "# Y is encoded now, sample data for 25 rows\n",
    "print (Y[0:25])"
   ]
  },
  {
   "cell_type": "code",
   "execution_count": 21,
   "id": "66ddce89-e0e9-4072-8dcd-05ca66ff1319",
   "metadata": {},
   "outputs": [
    {
     "name": "stdout",
     "output_type": "stream",
     "text": [
      "Missing data in target column \"Available\": 0\n"
     ]
    }
   ],
   "source": [
    "# Step 7: Check for missing data in target\n",
    "\n",
    "print('Missing data in target column \"Available\":', dataset['Available'].isna().sum())"
   ]
  },
  {
   "cell_type": "code",
   "execution_count": 23,
   "id": "d257a3ec-ee73-4861-8271-d51cc618dca5",
   "metadata": {},
   "outputs": [],
   "source": [
    "# Step 8: Split data into training and testing sets\n",
    "\n",
    "X_train, X_test, Y_train, Y_test = train_test_split(X, Y, test_size=0.20, random_state=0)"
   ]
  },
  {
   "cell_type": "code",
   "execution_count": 25,
   "id": "2f91c597-a29b-4ea2-b02a-1dd2571bd410",
   "metadata": {},
   "outputs": [
    {
     "data": {
      "text/html": [
       "<style>#sk-container-id-1 {color: black;background-color: white;}#sk-container-id-1 pre{padding: 0;}#sk-container-id-1 div.sk-toggleable {background-color: white;}#sk-container-id-1 label.sk-toggleable__label {cursor: pointer;display: block;width: 100%;margin-bottom: 0;padding: 0.3em;box-sizing: border-box;text-align: center;}#sk-container-id-1 label.sk-toggleable__label-arrow:before {content: \"▸\";float: left;margin-right: 0.25em;color: #696969;}#sk-container-id-1 label.sk-toggleable__label-arrow:hover:before {color: black;}#sk-container-id-1 div.sk-estimator:hover label.sk-toggleable__label-arrow:before {color: black;}#sk-container-id-1 div.sk-toggleable__content {max-height: 0;max-width: 0;overflow: hidden;text-align: left;background-color: #f0f8ff;}#sk-container-id-1 div.sk-toggleable__content pre {margin: 0.2em;color: black;border-radius: 0.25em;background-color: #f0f8ff;}#sk-container-id-1 input.sk-toggleable__control:checked~div.sk-toggleable__content {max-height: 200px;max-width: 100%;overflow: auto;}#sk-container-id-1 input.sk-toggleable__control:checked~label.sk-toggleable__label-arrow:before {content: \"▾\";}#sk-container-id-1 div.sk-estimator input.sk-toggleable__control:checked~label.sk-toggleable__label {background-color: #d4ebff;}#sk-container-id-1 div.sk-label input.sk-toggleable__control:checked~label.sk-toggleable__label {background-color: #d4ebff;}#sk-container-id-1 input.sk-hidden--visually {border: 0;clip: rect(1px 1px 1px 1px);clip: rect(1px, 1px, 1px, 1px);height: 1px;margin: -1px;overflow: hidden;padding: 0;position: absolute;width: 1px;}#sk-container-id-1 div.sk-estimator {font-family: monospace;background-color: #f0f8ff;border: 1px dotted black;border-radius: 0.25em;box-sizing: border-box;margin-bottom: 0.5em;}#sk-container-id-1 div.sk-estimator:hover {background-color: #d4ebff;}#sk-container-id-1 div.sk-parallel-item::after {content: \"\";width: 100%;border-bottom: 1px solid gray;flex-grow: 1;}#sk-container-id-1 div.sk-label:hover label.sk-toggleable__label {background-color: #d4ebff;}#sk-container-id-1 div.sk-serial::before {content: \"\";position: absolute;border-left: 1px solid gray;box-sizing: border-box;top: 0;bottom: 0;left: 50%;z-index: 0;}#sk-container-id-1 div.sk-serial {display: flex;flex-direction: column;align-items: center;background-color: white;padding-right: 0.2em;padding-left: 0.2em;position: relative;}#sk-container-id-1 div.sk-item {position: relative;z-index: 1;}#sk-container-id-1 div.sk-parallel {display: flex;align-items: stretch;justify-content: center;background-color: white;position: relative;}#sk-container-id-1 div.sk-item::before, #sk-container-id-1 div.sk-parallel-item::before {content: \"\";position: absolute;border-left: 1px solid gray;box-sizing: border-box;top: 0;bottom: 0;left: 50%;z-index: -1;}#sk-container-id-1 div.sk-parallel-item {display: flex;flex-direction: column;z-index: 1;position: relative;background-color: white;}#sk-container-id-1 div.sk-parallel-item:first-child::after {align-self: flex-end;width: 50%;}#sk-container-id-1 div.sk-parallel-item:last-child::after {align-self: flex-start;width: 50%;}#sk-container-id-1 div.sk-parallel-item:only-child::after {width: 0;}#sk-container-id-1 div.sk-dashed-wrapped {border: 1px dashed gray;margin: 0 0.4em 0.5em 0.4em;box-sizing: border-box;padding-bottom: 0.4em;background-color: white;}#sk-container-id-1 div.sk-label label {font-family: monospace;font-weight: bold;display: inline-block;line-height: 1.2em;}#sk-container-id-1 div.sk-label-container {text-align: center;}#sk-container-id-1 div.sk-container {/* jupyter's `normalize.less` sets `[hidden] { display: none; }` but bootstrap.min.css set `[hidden] { display: none !important; }` so we also need the `!important` here to be able to override the default hidden behavior on the sphinx rendered scikit-learn.org. See: https://github.com/scikit-learn/scikit-learn/issues/21755 */display: inline-block !important;position: relative;}#sk-container-id-1 div.sk-text-repr-fallback {display: none;}</style><div id=\"sk-container-id-1\" class=\"sk-top-container\"><div class=\"sk-text-repr-fallback\"><pre>LogisticRegression(random_state=0)</pre><b>In a Jupyter environment, please rerun this cell to show the HTML representation or trust the notebook. <br />On GitHub, the HTML representation is unable to render, please try loading this page with nbviewer.org.</b></div><div class=\"sk-container\" hidden><div class=\"sk-item\"><div class=\"sk-estimator sk-toggleable\"><input class=\"sk-toggleable__control sk-hidden--visually\" id=\"sk-estimator-id-1\" type=\"checkbox\" checked><label for=\"sk-estimator-id-1\" class=\"sk-toggleable__label sk-toggleable__label-arrow\">LogisticRegression</label><div class=\"sk-toggleable__content\"><pre>LogisticRegression(random_state=0)</pre></div></div></div></div></div>"
      ],
      "text/plain": [
       "LogisticRegression(random_state=0)"
      ]
     },
     "execution_count": 25,
     "metadata": {},
     "output_type": "execute_result"
    }
   ],
   "source": [
    "# Step 9: Train logistic regression model\n",
    "\n",
    "reg = LogisticRegression(random_state=0)\n",
    "reg.fit(X_train, Y_train)"
   ]
  },
  {
   "cell_type": "code",
   "execution_count": 27,
   "id": "3057ef52-4d08-4909-a2ee-1282df6a771b",
   "metadata": {},
   "outputs": [],
   "source": [
    "# Step 10: Predict test set results\n",
    "\n",
    "Y_pred = reg.predict(X_test)"
   ]
  },
  {
   "cell_type": "code",
   "execution_count": 29,
   "id": "f59e2aff-5853-4deb-8710-fbab71942833",
   "metadata": {},
   "outputs": [
    {
     "name": "stdout",
     "output_type": "stream",
     "text": [
      "Predicted values: [1 1 1 1 1 1 1 1 1 1 1 1 1 1 1 1 1 1 1 1 1 1 1 1 1 1 1 1 1 1 1 1 1 1 1 1 1\n",
      " 1 1 1 1]\n",
      "Actual values:    [1 1 1 1 1 1 1 1 1 0 1 0 1 0 1 1 0 1 0 1 0 1 0 1 0 1 1 0 0 1 1 0 0 1 1 0 0\n",
      " 1 1 1 1]\n"
     ]
    }
   ],
   "source": [
    "# Step 11: Display predictions and true values\n",
    "\n",
    "print(\"Predicted values:\", Y_pred)\n",
    "print(\"Actual values:   \", Y_test)"
   ]
  },
  {
   "cell_type": "code",
   "execution_count": 31,
   "id": "19a4f3d0-add6-42ca-86b1-8367ed25d9fc",
   "metadata": {},
   "outputs": [
    {
     "name": "stdout",
     "output_type": "stream",
     "text": [
      "Availability prediction for Mazda car: YES\n"
     ]
    },
    {
     "name": "stderr",
     "output_type": "stream",
     "text": [
      "/Users/Niall/anaconda3/lib/python3.10/site-packages/sklearn/base.py:413: UserWarning: X has feature names, but SimpleImputer was fitted without feature names\n",
      "  warnings.warn(\n",
      "/Users/Niall/anaconda3/lib/python3.10/site-packages/sklearn/base.py:413: UserWarning: X has feature names, but OneHotEncoder was fitted without feature names\n",
      "  warnings.warn(\n"
     ]
    }
   ],
   "source": [
    "# Step 12: Predict availability of a specific car\n",
    "\n",
    "# Prepare input as a DataFrame (with same structure)\n",
    "car_input = pd.DataFrame([['mazda', 4, 4, 134000.0, 22.0]],\n",
    "                         columns=['Car_Name', 'Number_of_Doors', 'No_of_Cylinder', 'Car_Mileage', 'Car_Age'])\n",
    "\n",
    "# Impute missing values (if any) — only for numeric columns\n",
    "car_input.iloc[:, 3:5] = imputer.transform(car_input.iloc[:, 3:5])\n",
    "\n",
    "# Transform the input using the already fitted column transformer\n",
    "car_input_transformed = ct.transform(car_input)\n",
    "\n",
    "# Make prediction\n",
    "prediction = reg.predict(car_input_transformed)\n",
    "predicted_label = 'YES' if prediction[0] == 1 else 'NO'\n",
    "\n",
    "print(\"Availability prediction for Mazda car:\", predicted_label)"
   ]
  },
  {
   "cell_type": "code",
   "execution_count": 33,
   "id": "50d32898-41ef-4cc1-9109-03211425fd32",
   "metadata": {},
   "outputs": [
    {
     "name": "stdout",
     "output_type": "stream",
     "text": [
      "Confusion Matrix:\n",
      " [[ 0 14]\n",
      " [ 0 27]]\n",
      "\n",
      "Accuracy Percentage: 65.85%\n"
     ]
    }
   ],
   "source": [
    "# Step 12: Evaluate the model using a Confusion Matrix and Accuracy Score\n",
    "\n",
    "from sklearn.metrics import confusion_matrix, accuracy_score\n",
    "\n",
    "# Generate the confusion matrix, # Rows: actual values, Columns: predicted values\n",
    "# For binary classification: [[TN, FP], [FN, TP]]\n",
    "cm = confusion_matrix(Y_test, Y_pred)\n",
    "\n",
    "# Display the confusion matrix\n",
    "print(\"Confusion Matrix:\\n\", cm)\n",
    "\n",
    "# Interpretation:\n",
    "# cm[0][0] = True Negatives (car not available and predicted not available)\n",
    "# cm[0][1] = False Positives (car not available but predicted available)\n",
    "# cm[1][0] = False Negatives (car available but predicted not available)\n",
    "# cm[1][1] = True Positives (car available and predicted available)\n",
    "print() # bank line space\n",
    "\n",
    "# Calculate the overall accuracy of the model, # Accuracy = (TP + TN) / total predictions\n",
    "acc = accuracy_score(Y_test, Y_pred)\n",
    "\n",
    "# Print the accuracy score as a percentage\n",
    "print(\"Accuracy Percentage: {:.2f}%\".format(acc * 100))"
   ]
  },
  {
   "cell_type": "code",
   "execution_count": 35,
   "id": "b496ddc6-8234-4561-8cd4-cf0985e3f46d",
   "metadata": {},
   "outputs": [],
   "source": [
    "# Model Summary and Business Use\n",
    "\n",
    "# This model predicts whether a car is available based on details like its name, doors, mileage, and age.\n",
    "#\n",
    "# In banking and finance, we can use similar models to:\n",
    "# - Predict if a customer will get approved for a loan.\n",
    "# - Estimate the chance someone might miss a payment.\n",
    "# - Identify who might be interested in new products or services.\n",
    "#\n",
    "# Using these predictions helps banks make smarter decisions, offer better service,\n",
    "# and reduce risks — all leading to happier customers and a healthier business outcomes\n",
    "#"
   ]
  },
  {
   "cell_type": "code",
   "execution_count": null,
   "id": "68e03da3-e35a-4b66-b483-634f37043a68",
   "metadata": {},
   "outputs": [],
   "source": []
  },
  {
   "cell_type": "code",
   "execution_count": null,
   "id": "53e6b645-22d4-4436-8458-e9d114741b24",
   "metadata": {},
   "outputs": [],
   "source": []
  }
 ],
 "metadata": {
  "kernelspec": {
   "display_name": "Python [conda env:base] *",
   "language": "python",
   "name": "conda-base-py"
  },
  "language_info": {
   "codemirror_mode": {
    "name": "ipython",
    "version": 3
   },
   "file_extension": ".py",
   "mimetype": "text/x-python",
   "name": "python",
   "nbconvert_exporter": "python",
   "pygments_lexer": "ipython3",
   "version": "3.10.9"
  }
 },
 "nbformat": 4,
 "nbformat_minor": 5
}
